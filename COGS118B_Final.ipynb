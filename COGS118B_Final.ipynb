{
  "nbformat": 4,
  "nbformat_minor": 0,
  "metadata": {
    "colab": {
      "name": "COGS118B_Final.ipynb",
      "provenance": [],
      "collapsed_sections": []
    },
    "kernelspec": {
      "name": "python3",
      "display_name": "Python 3"
    },
    "language_info": {
      "name": "python"
    }
  },
  "cells": [
    {
      "cell_type": "code",
      "execution_count": 2,
      "metadata": {
        "id": "UcYfQvYYPEOV"
      },
      "outputs": [],
      "source": [
        "import matplotlib.pyplot as plt\n",
        "import matplotlib.image as mpimg\n",
        "import numpy as np\n",
        "from skimage.io import imread\n",
        "from PIL import Image\n",
        "from scipy.stats import multivariate_normal\n",
        "import numpy as np \n",
        "import tensorflow\n",
        "from tensorflow.keras.datasets import mnist\n",
        "import matplotlib.pyplot as plt\n",
        "from tqdm import tqdm\n",
        "import scipy\n",
        "import matplotlib.pyplot as plt\n",
        "import matplotlib.image as mpimg\n",
        "import numpy as np\n",
        "from skimage.io import imread\n",
        "import cv2\n",
        "import os\n",
        "from scipy.stats import multivariate_normal\n",
        "from numpy.matlib import repmat\n",
        "from sklearn.preprocessing import normalize"
      ]
    },
    {
      "cell_type": "code",
      "source": [
        "def load_images(folder):\n",
        "    images = np.zeros((2631,784))\n",
        "    i = 0\n",
        "    for filename in os.listdir(folder):\n",
        "        img = cv2.imread(os.path.join(folder,filename))\n",
        "        try:\n",
        "          img = cv2.resize(img,(28,28))\n",
        "        except Exception as e:\n",
        "          continue\n",
        "        if img is not None:\n",
        "            R, G, B = img[:,:,0], img[:,:,1], img[:,:,2]\n",
        "            imgGray = 0.2989 * R + 0.5870 * G + 0.1140 * B\n",
        "            images[i] = imgGray.flatten()\n",
        "            mean = np.mean(images[i])\n",
        "            for j in range(784):\n",
        "              if images[i][j] >= mean:\n",
        "                images[i][j] = 0\n",
        "              else:\n",
        "                images[i][j] = 1\n",
        "            i+= 1\n",
        "    return images"
      ],
      "metadata": {
        "id": "Y_X67zwMPHOv"
      },
      "execution_count": 5,
      "outputs": []
    },
    {
      "cell_type": "code",
      "source": [
        "from google.colab import drive\n",
        "drive.mount('/content/drive')"
      ],
      "metadata": {
        "colab": {
          "base_uri": "https://localhost:8080/"
        },
        "id": "0hclXCmM1zlz",
        "outputId": "a66d7d81-7373-4c92-896d-7b68bd8e5581"
      },
      "execution_count": 3,
      "outputs": [
        {
          "output_type": "stream",
          "name": "stdout",
          "text": [
            "Drive already mounted at /content/drive; to attempt to forcibly remount, call drive.mount(\"/content/drive\", force_remount=True).\n"
          ]
        }
      ]
    },
    {
      "cell_type": "code",
      "source": [
        "imgs = load_images(\"/content/drive/MyDrive/dataset\")\n",
        "print(imgs.shape)"
      ],
      "metadata": {
        "colab": {
          "base_uri": "https://localhost:8080/"
        },
        "id": "NDRcP9KrPuXX",
        "outputId": "544a1d31-9f50-474f-99f3-c9ae66857253"
      },
      "execution_count": 6,
      "outputs": [
        {
          "output_type": "stream",
          "name": "stdout",
          "text": [
            "(2631, 784)\n"
          ]
        }
      ]
    },
    {
      "cell_type": "code",
      "source": [
        "\n",
        "theta_MLE = np.zeros(784)\n",
        "for i in range(784):\n",
        "  sum = 0\n",
        "  for j in range(2631):\n",
        "    sum = sum + imgs[j,i]\n",
        "  theta_MLE[i] = sum/2631\n",
        "####\n",
        "def calcSqDistances(X, Kmus):\n",
        "  N, D = X.shape\n",
        "  A, B = Kmus.shape\n",
        "  sqDmat = np.zeros((N,A))\n",
        "  for i in range(N):\n",
        "      for j in range(A):\n",
        "        temp = np.subtract(X[i],Kmus[j])\n",
        "        temp = temp @ temp\n",
        "        sqDmat[i][j] = temp\n",
        "  return sqDmat\n",
        "def determineRnk(sqDmat):\n",
        "  N, D = sqDmat.shape\n",
        "  Rnk = np.zeros((N,D))\n",
        "  for i in range(N):\n",
        "    rowmin = sqDmat[i][0]\n",
        "    index = 0\n",
        "    for j in range(D):\n",
        "      if(sqDmat[i][j]<rowmin):\n",
        "        rowmin = sqDmat[i][j]\n",
        "        index = j\n",
        "    Rnk[i][index] = 1\n",
        "  return Rnk\n",
        "def recalcMus(X, Rnk):\n",
        "  N, D = X.shape\n",
        "  A, B = Rnk.shape\n",
        "  Kmus = np.zeros((B,D))\n",
        "  setNum = np.sum(Rnk, axis=0)\n",
        "  sum = np.dot(np.transpose(Rnk),X)\n",
        "  for i in range(B):\n",
        "    for j in range(D):\n",
        "      Kmus[i][j] = sum[i][j]/setNum[i]\n",
        "  return Kmus"
      ],
      "metadata": {
        "id": "h2UvC3PrtkkN"
      },
      "execution_count": 7,
      "outputs": []
    },
    {
      "cell_type": "code",
      "source": [
        "def runKMeans(K):\n",
        "\n",
        "\n",
        "\n",
        "    #determine and store data set information\n",
        "  N, D = imgs.shape\n",
        "\n",
        "    #allocate space for the K mu vectors\n",
        "  Kmus = np.zeros((K, D))\n",
        "\n",
        "    #initialize cluster centers by randomly picking points from the data\n",
        "  rand_inds = np.random.permutation(N)\n",
        "  Kmus = imgs[rand_inds[0:K],:]\n",
        "\n",
        "    #specify the maximum number of iterations to allow\n",
        "  maxiters = 1000\n",
        "\n",
        "  for iter in range(maxiters):\n",
        "        #assign each data vector to closest mu vector as per Bishop (9.2)\n",
        "        #do this by first calculating a squared distance matrix where the n,k entry\n",
        "        #contains the squared distance from the nth data vector to the kth mu vector\n",
        "\n",
        "        #sqDmat will be an N-by-K matrix with the n,k entry as specfied above\n",
        "    sqDmat = calcSqDistances(imgs, Kmus)\n",
        "\n",
        "        #given the matrix of squared distances, determine the closest cluster\n",
        "        #center for each data vector\n",
        "\n",
        "        #R is the \"responsibility\" matrix\n",
        "        #R will be an N-by-K matrix of binary values whose n,k entry is set as\n",
        "        #per Bishop (9.2)\n",
        "        #Specifically, the n,k entry is 1 if point n is closest to cluster k,\n",
        "        #and is 0 otherwise\n",
        "    Rnk = determineRnk(sqDmat)\n",
        "\n",
        "    KmusOld = Kmus\n",
        "\n",
        "        #recalculate mu values based on cluster assignments as per Bishop (9.4)\n",
        "    Kmus = recalcMus(imgs, Rnk)\n",
        "\n",
        "\n",
        "\n",
        "\n",
        "\n",
        "        #check to see if the cluster centers have converged.  If so, break.\n",
        "    if np.sum(np.abs(KmusOld.reshape((-1, 1)) - Kmus.reshape((-1, 1)))) < 1e-6:\n",
        "        print(iter)\n",
        "        break\n",
        "\n",
        "  return Kmus"
      ],
      "metadata": {
        "id": "u8HzF-dot2ft"
      },
      "execution_count": 8,
      "outputs": []
    },
    {
      "cell_type": "code",
      "source": [
        "Kmus_5 = runKMeans(5)\n",
        "Kmus_3 = runKMeans(3)"
      ],
      "metadata": {
        "colab": {
          "base_uri": "https://localhost:8080/"
        },
        "id": "yP_jk1zEwMtO",
        "outputId": "57ceea97-3f0e-4281-9246-39940034358a"
      },
      "execution_count": 9,
      "outputs": [
        {
          "output_type": "stream",
          "name": "stdout",
          "text": [
            "32\n",
            "32\n"
          ]
        }
      ]
    },
    {
      "cell_type": "code",
      "source": [
        "\n",
        "def get_cluster_plot(Kmus, rows = 2):\n",
        "  '''\n",
        "  : get a plot of what different clusters represent\n",
        "  : takes as input the cluster location matrix\n",
        "  '''\n",
        "  fig,axs = plt.subplots(rows,5, figsize = (15,9))\n",
        "  for i in range(len(Kmus)):\n",
        "    cluster = Kmus[i].reshape(28,-1) * 255\n",
        "    axs[i//5][i%5].imshow(cluster, cmap = plt.cm.binary)\n",
        "    axs[i//5][i%5].set_title(f'Cluster {i + 1}')"
      ],
      "metadata": {
        "id": "UgGCH1SruCVS"
      },
      "execution_count": 10,
      "outputs": []
    },
    {
      "cell_type": "code",
      "source": [
        "get_cluster_plot(Kmus_3)"
      ],
      "metadata": {
        "colab": {
          "base_uri": "https://localhost:8080/",
          "height": 541
        },
        "id": "J9PiDL0K8Hd6",
        "outputId": "0f8e9c69-6e4e-4070-f33a-79ef6daa5722"
      },
      "execution_count": 12,
      "outputs": [
        {
          "output_type": "display_data",
          "data": {
            "text/plain": [
              "<Figure size 1080x648 with 10 Axes>"
            ],
            "image/png": "[encoded data removed]"
          },
          "metadata": {
            "needs_background": "light"
          }
        }
      ]
    },
    {
      "cell_type": "code",
      "source": [
        ""
      ],
      "metadata": {
        "id": "XSsjLNGwuoMz"
      },
      "execution_count": 63,
      "outputs": []
    },
    {
      "cell_type": "code",
      "source": [
        "def calcBer(x,t):\n",
        "  matrix1 = t**x\n",
        "  \n",
        "  matrix2 = (1-t)**(1-x)\n",
        "  matrix = matrix1*matrix2\n",
        "  #print(np.prod(matrix))\n",
        "  return np.prod(matrix, axis = 1)\n",
        "\n",
        "def calcRespons(pi, theta, x, K):\n",
        "    N,D = x.shape\n",
        "    response = np.zeros((N,K))\n",
        "    for k in range(K): \n",
        "        response[:,k] = pi[k] * calcBer(x, theta[k])\n",
        "    response = np.divide(response, np.sum(response, axis = 1, keepdims=True))\n",
        "    return response\n",
        "\n",
        "def recalcParam(x, response, K):\n",
        "    N,D = x.shape\n",
        "    pi = np.zeros((K,1))\n",
        "    theta = np.zeros((K,D))\n",
        "    setNum = np.sum(response, axis=0)\n",
        "    pi = setNum/N\n",
        "    theta = np.divide(response.T @ x, np.sum(response, axis = 0, keepdims=True).T)\n",
        "    return pi, theta\n",
        "\n",
        "def train_EM_MOB(x , pi, theta, K): \n",
        "    '''\n",
        "    :input arguments ---> data set, mixture probabilities, initial cluster locations and number of mixtures\n",
        "    : Implement the EM algorithm for Mixture of Bernoulli random variables\n",
        "    : HINT -> We strongly recommend to avoid two nested for loops. Try vectorising your code. \n",
        "    : A simple example of vectorisation is as follows :- \n",
        "    : Assume you have two vectors a and b. Suppose you want to find out the dot product of a and b. \n",
        "    : There are two ways -> 1. sum = 0 ; for i in range(len(a)): sum += a[i]*b[i] \n",
        "    : 2. sum = a.T @ b\n",
        "    : The second method uses the matrix properties to get the same result as first. This is the main idea. \n",
        "    : Also it is a good idea to try out your own code with a small minibatch of data instead of the full data. \n",
        "    '''\n",
        "    N, D = x.shape\n",
        "    maxiters = 100\n",
        "    response = np.zeros((N,K))\n",
        "    for iter in range(maxiters):\n",
        "        response = calcRespons(pi, theta, x, K)\n",
        "        pi_new, theta_new = recalcParam(x, response, K)\n",
        "        if np.sum(np.abs(theta.reshape((-1, 1)) - theta_new.reshape((-1, 1)))) < 1e-6:\n",
        "            print(iter)\n",
        "            break\n",
        "        pi,theta = pi_new, theta_new\n",
        "    return pi, theta\n",
        "\n",
        "    \n"
      ],
      "metadata": {
        "id": "kI2IWGUhQJSA"
      },
      "execution_count": 31,
      "outputs": []
    },
    {
      "cell_type": "code",
      "source": [
        ""
      ],
      "metadata": {
        "id": "9-cdAG11RULQ"
      },
      "execution_count": null,
      "outputs": []
    },
    {
      "cell_type": "code",
      "source": [
        "def get_cluster_plot(Kmus, rows = 2):\n",
        "  '''\n",
        "  : get a plot of what different clusters represent\n",
        "  : takes as input the cluster location matrix\n",
        "  '''\n",
        "  fig,axs = plt.subplots(rows,5, figsize = (15,9))\n",
        "  for i in range(len(Kmus)):\n",
        "    cluster = Kmus[i].reshape(28,-1) * 255\n",
        "    axs[i//5][i%5].imshow(cluster, cmap = plt.cm.binary)\n",
        "    axs[i//5][i%5].set_title(f'Cluster {i + 1}')\n",
        "get_cluster_plot(theta_new)"
      ],
      "metadata": {
        "colab": {
          "base_uri": "https://localhost:8080/",
          "height": 514
        },
        "id": "n4GDtewwRk1Z",
        "outputId": "c4f30ed7-1095-409d-aaf9-9253ee75e003"
      },
      "execution_count": 77,
      "outputs": [
        {
          "output_type": "display_data",
          "data": {
            "text/plain": [
              "<Figure size 1080x648 with 10 Axes>"
            ],
            "image/png": "[encoded data removed]"
          },
          "metadata": {
            "needs_background": "light"
          }
        }
      ]
    },
    {
      "cell_type": "code",
      "source": [
        "train = imgs\n",
        "#Initialise the P(z = k) = $$\\pi_k$$\n",
        "pi3 = np.array([0.33,0.33,0.33])\n",
        "pi5 = np.array([0.2,0.2,0.2,0.2,0.2])\n",
        "#Initialise theta\n",
        "# theta = Kmus_10\n",
        "theta = np.random.uniform(low = 0.1, high = 0.5, size = (5,784)) # Using for my own because I dont want to run Kmeans again\n",
        "\n",
        "#First try out with a small dataset\n",
        "pi_new, theta_new = train_EM_MOB(train, pi5, theta, 5)\n",
        "#After ensuring it works as expected, run on full dataset\n",
        "#pi_new, theta_new = train_EM_MOB(train , pi, theta)\n",
        "print(theta_new)"
      ],
      "metadata": {
        "colab": {
          "base_uri": "https://localhost:8080/"
        },
        "id": "N29r_4DqQkkf",
        "outputId": "119b664c-df90-4ff0-b12d-6e5b50369c75"
      },
      "execution_count": 76,
      "outputs": [
        {
          "output_type": "stream",
          "name": "stdout",
          "text": [
            "[[0.         0.         0.         ... 0.         0.         0.        ]\n",
            " [0.         0.         0.         ... 0.05245813 0.05245813 0.05245813]\n",
            " [0.         0.         0.         ... 0.00890858 0.00534515 0.00356343]\n",
            " [0.         0.         0.         ... 0.         0.         0.        ]\n",
            " [0.         0.         0.         ... 0.         0.         0.        ]]\n"
          ]
        }
      ]
    },
    {
      "cell_type": "code",
      "source": [
        "print(theta_new.shape)"
      ],
      "metadata": {
        "colab": {
          "base_uri": "https://localhost:8080/"
        },
        "id": "ddD62UMla_eh",
        "outputId": "264a1c93-d2cc-4283-e1d4-6f10da97c606"
      },
      "execution_count": null,
      "outputs": [
        {
          "output_type": "stream",
          "name": "stdout",
          "text": [
            "(5, 784)\n"
          ]
        }
      ]
    }
  ]
}